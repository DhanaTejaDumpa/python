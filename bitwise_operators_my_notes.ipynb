{
 "cells": [
  {
   "cell_type": "markdown",
   "id": "8e6cece2-1338-4c25-bc4f-cb61b7f0cfd2",
   "metadata": {},
   "source": [
    "## <u>Bitwise Operators</u>:\n",
    "* These operators works on bits(binary number).\n",
    "**Bitwise operators are used to perform bitwise operations on two operands.**\n",
    "* Bitwise operators -- &(AND),|(OR),^(XOR),~(NOT),>>(RIGHT SHIFT),<<(LEFT SHIFT)\n",
    "   "
   ]
  },
  {
   "cell_type": "markdown",
   "id": "a938e6e2-f569-4d3d-b4a2-935270edaff8",
   "metadata": {},
   "source": [
    "### Bitwise AND (&):\n",
    "* It returns 1 if both bits at the same position are 1,else returns 0.\n",
    "\n",
    "Bit_1 | Bit_2 | Bit_1 & Bit_2\n",
    "------|-------|--------------\n",
    "0|0|0\n",
    "1|0|0\n",
    "0|1|0\n",
    "1|1|1\n",
    "\n",
    "ex : a,b = 5,4\n",
    "\n",
    "print(a & b) \n",
    "\n",
    "a = 0 1 0 1\n",
    "-----------\n",
    "b = 0 1 0 0\n",
    "-----------\n",
    "a&b = 0100 = 4\n",
    "-----------"
   ]
  },
  {
   "cell_type": "code",
   "execution_count": 6,
   "id": "cb17e1c5-b915-47aa-b247-b3997090a7a8",
   "metadata": {},
   "outputs": [
    {
     "data": {
      "text/plain": [
       "4"
      ]
     },
     "execution_count": 6,
     "metadata": {},
     "output_type": "execute_result"
    }
   ],
   "source": [
    "a,b = 5,4\n",
    "a & b "
   ]
  },
  {
   "cell_type": "markdown",
   "id": "e1cf9c77-37eb-43ff-ad04-3e57e141f647",
   "metadata": {},
   "source": [
    "### Bitwise OR (|):\n",
    "* It returns 1 if either or both bits at the same position are 1, else returns 0.\n",
    "\n",
    "Bit_1 | Bit_2 | Bit_1 \\| Bit_2\n",
    "------|-------|--------------\n",
    "0|0|0\n",
    "1|0|1\n",
    "0|1|1\n",
    "1|1|1\n",
    "\n",
    "ex : a,b = 5,4\n",
    "print(a|b)\n",
    "\n",
    "a = 0 1 0 1\n",
    "-----------\n",
    "b = 0 1 0 0\n",
    "-----------\n",
    "a|b=0101=5\n",
    "----------\n"
   ]
  },
  {
   "cell_type": "code",
   "execution_count": 8,
   "id": "e9cbb82f-b124-46b2-b714-6abf33b189fa",
   "metadata": {},
   "outputs": [
    {
     "data": {
      "text/plain": [
       "5"
      ]
     },
     "execution_count": 8,
     "metadata": {},
     "output_type": "execute_result"
    }
   ],
   "source": [
    "a,b = 5,4\n",
    "a|b"
   ]
  },
  {
   "cell_type": "markdown",
   "id": "581a24f3-eda5-4817-803f-8fb3f51e851d",
   "metadata": {},
   "source": [
    "### Bitwise XOR (^):\n",
    "* It returns 1 if only one of the bits is 1, else returns 0.\n",
    "\n",
    "Bit_1 | Bit_2 | Bit_1 ^ Bit_2\n",
    "------|-------|--------------\n",
    "0|0|0\n",
    "1|0|1\n",
    "0|1|1\n",
    "1|1|0\n",
    "\n",
    "ex : a,b = 5,4\n",
    "print(a^b)\n",
    "\n",
    "a = 0 1 0 1\n",
    "-----------\n",
    "b = 0 1 0 0\n",
    "-----------\n",
    "a|b=0001=1\n",
    "----------"
   ]
  },
  {
   "cell_type": "code",
   "execution_count": 22,
   "id": "e7c1b462-c259-429f-b072-57960f4b5495",
   "metadata": {},
   "outputs": [
    {
     "data": {
      "text/plain": [
       "1"
      ]
     },
     "execution_count": 22,
     "metadata": {},
     "output_type": "execute_result"
    }
   ],
   "source": [
    "a,b = 5,4\n",
    "a^b"
   ]
  },
  {
   "cell_type": "code",
   "execution_count": null,
   "id": "7f53e713-ac28-427a-a85e-ea3346971b75",
   "metadata": {},
   "outputs": [],
   "source": []
  },
  {
   "cell_type": "code",
   "execution_count": null,
   "id": "e3912ec9-dee3-4bdf-bc65-50695bd54d2b",
   "metadata": {},
   "outputs": [],
   "source": []
  },
  {
   "cell_type": "code",
   "execution_count": null,
   "id": "25a8897b-ba48-4a36-816c-bf658225106a",
   "metadata": {},
   "outputs": [],
   "source": []
  },
  {
   "cell_type": "code",
   "execution_count": null,
   "id": "b7565866-1c0a-4763-b5ef-4149c45e7bd7",
   "metadata": {},
   "outputs": [],
   "source": []
  },
  {
   "cell_type": "code",
   "execution_count": null,
   "id": "9ea53dc7-7535-4bbe-86d4-1d7500cb9ec6",
   "metadata": {},
   "outputs": [],
   "source": []
  },
  {
   "cell_type": "code",
   "execution_count": null,
   "id": "c34881d9-d25c-415f-b908-42d8a32ed92a",
   "metadata": {},
   "outputs": [],
   "source": []
  },
  {
   "cell_type": "code",
   "execution_count": null,
   "id": "592515c6-929f-40f4-bb24-48f851141594",
   "metadata": {},
   "outputs": [],
   "source": []
  },
  {
   "cell_type": "code",
   "execution_count": null,
   "id": "eec86ac1-2fad-422e-ad56-29cc7aa174b7",
   "metadata": {},
   "outputs": [],
   "source": []
  },
  {
   "cell_type": "code",
   "execution_count": null,
   "id": "04126e05-44df-4792-b354-7a91bb01e1b0",
   "metadata": {},
   "outputs": [],
   "source": []
  },
  {
   "cell_type": "code",
   "execution_count": null,
   "id": "00418ec7-6a4c-497a-af44-58b3a5410db9",
   "metadata": {},
   "outputs": [],
   "source": []
  },
  {
   "cell_type": "code",
   "execution_count": null,
   "id": "0ccc2536-402b-4156-a10c-ec1a880584d1",
   "metadata": {},
   "outputs": [],
   "source": []
  },
  {
   "cell_type": "code",
   "execution_count": null,
   "id": "c8963815-972c-4215-882d-ed5ffc496d11",
   "metadata": {},
   "outputs": [],
   "source": []
  },
  {
   "cell_type": "code",
   "execution_count": null,
   "id": "bb0b9fab-c4b2-4b09-9930-e29091592efb",
   "metadata": {},
   "outputs": [],
   "source": []
  },
  {
   "cell_type": "code",
   "execution_count": null,
   "id": "2db26860-dbbc-47cd-a570-74928d6fc87b",
   "metadata": {},
   "outputs": [],
   "source": []
  }
 ],
 "metadata": {
  "kernelspec": {
   "display_name": "Python 3 (ipykernel)",
   "language": "python",
   "name": "python3"
  },
  "language_info": {
   "codemirror_mode": {
    "name": "ipython",
    "version": 3
   },
   "file_extension": ".py",
   "mimetype": "text/x-python",
   "name": "python",
   "nbconvert_exporter": "python",
   "pygments_lexer": "ipython3",
   "version": "3.12.7"
  }
 },
 "nbformat": 4,
 "nbformat_minor": 5
}
