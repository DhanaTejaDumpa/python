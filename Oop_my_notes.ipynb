{
 "cells": [
  {
   "cell_type": "markdown",
   "id": "63a861cc-4a70-4334-9d3a-4555a9a5da8e",
   "metadata": {},
   "source": [
    "## <u> OOP in Python</u>\n",
    "* To map with real world scenarios,we started using objects in code.\n",
    "* This is called object oriented programming"
   ]
  },
  {
   "cell_type": "markdown",
   "id": "99a18fee-c261-45a8-b870-d8234f9ba0fb",
   "metadata": {},
   "source": [
    "* procedural programming --- writing code in sequence and code is executed in sequential manner\n",
    "* functions --- reusability of code increases , redundancy decreases\n",
    "* object oriented programming --- we can also use objects and classes to increase reusability and decrease redundancy\n"
   ]
  },
  {
   "cell_type": "markdown",
   "id": "54a998bc-1ad7-4d10-a2fe-bc0ee50cae8d",
   "metadata": {},
   "source": [
    "* we can use anything as object\n",
    "* but, before creating an object we must create a class\n",
    "* `class -- blueprint`\n",
    "* In python, we already dealt with different objects and classes\n",
    "    * lists,strings etc... are objects"
   ]
  },
  {
   "cell_type": "markdown",
   "id": "97a62581-5d58-434c-a4de-fd4a95fb6c11",
   "metadata": {},
   "source": [
    "### <u>Class & Object in Python</u>:\n",
    "\n",
    "**class is a blueprint for creating objects**"
   ]
  },
  {
   "cell_type": "code",
   "execution_count": 75,
   "id": "20fe5dc2-a369-4d30-9bca-f40439076bdd",
   "metadata": {},
   "outputs": [
    {
     "name": "stdout",
     "output_type": "stream",
     "text": [
      "<__main__.Student object at 0x000001FB0917F290>\n"
     ]
    }
   ],
   "source": [
    "# creating class\n",
    "\n",
    "class Student:     # class name should begin with capital letter\n",
    "    name = \"karan kumar\"\n",
    "\n",
    "# creating object(instance)\n",
    "# object is nothing but instance of class\n",
    "\n",
    "s1 = Student()     # syntax for creating instance : object variablename = classname()\n",
    "print(s1)"
   ]
  },
  {
   "cell_type": "code",
   "execution_count": 77,
   "id": "92bef69e-6545-4b28-9942-29f21f3b0cd3",
   "metadata": {},
   "outputs": [
    {
     "name": "stdout",
     "output_type": "stream",
     "text": [
      "karan kumar\n"
     ]
    }
   ],
   "source": [
    "print(s1.name)"
   ]
  },
  {
   "cell_type": "code",
   "execution_count": 79,
   "id": "050b892c-ad0b-4bc9-bec0-23533cea322a",
   "metadata": {},
   "outputs": [],
   "source": [
    "s2 = Student()"
   ]
  },
  {
   "cell_type": "code",
   "execution_count": 81,
   "id": "144ba33c-f62e-4034-b372-ca891f916dd7",
   "metadata": {},
   "outputs": [
    {
     "name": "stdout",
     "output_type": "stream",
     "text": [
      "karan kumar\n"
     ]
    }
   ],
   "source": [
    "print(s2.name)    # s1 and s2 has same name as it is defined inside a class(which is a blueprint)\n",
    "# so every object will have same value\n"
   ]
  },
  {
   "cell_type": "code",
   "execution_count": 83,
   "id": "45974328-b298-4e96-81b6-42bc74c1feae",
   "metadata": {},
   "outputs": [
    {
     "name": "stdout",
     "output_type": "stream",
     "text": [
      "blue\n"
     ]
    }
   ],
   "source": [
    "class Car:\n",
    "    color = \"blue\"\n",
    "\n",
    "car1 = Car()\n",
    "print(car1.color)"
   ]
  },
  {
   "cell_type": "code",
   "execution_count": 85,
   "id": "3fc9360d-22ed-400f-a622-1a271628d12e",
   "metadata": {},
   "outputs": [
    {
     "name": "stdout",
     "output_type": "stream",
     "text": [
      "blue\n",
      "mercedes\n"
     ]
    }
   ],
   "source": [
    "# we can have multiple parameters\n",
    "\n",
    "class Car:\n",
    "    color = \"blue\"\n",
    "    brand = \"mercedes\"\n",
    "\n",
    "car1 = Car()\n",
    "print(car1.color)\n",
    "print(car1.brand)"
   ]
  },
  {
   "cell_type": "markdown",
   "id": "802e5852-1dcc-4438-bc40-627dcd3a7a22",
   "metadata": {},
   "source": [
    "#  <u>__init__ function </u>:\n",
    "## constructor \n",
    "* constructor envokes(executes) at the time of object creation.\n",
    "\n",
    "**All classes have a function called __init__(), which is always executed when the class(in actual sense object) is being initiated.**\n",
    "\n",
    "* Constructor always takes an argument <b>self</b>\n",
    "* The <b>self</b> parameter is a reference to the current instance of the class, and is used to access variables that belong to the class.\n"
   ]
  },
  {
   "cell_type": "code",
   "execution_count": 88,
   "id": "ff6b9d7e-4804-411a-a05e-961be9b4223e",
   "metadata": {},
   "outputs": [
    {
     "name": "stdout",
     "output_type": "stream",
     "text": [
      "<__main__.Student object at 0x000001FB0917F2F0>\n",
      "adding new student in database\n",
      "<__main__.Student object at 0x000001FB0917F2F0>\n"
     ]
    }
   ],
   "source": [
    " class Student:\n",
    "     name = 'karan'\n",
    "     def __init__(self) :    # constructor\n",
    "         print(self)\n",
    "         print('adding new student in database')\n",
    "s1 = Student()  \n",
    "print(s1)\n",
    "\n",
    "# s1 --- object/instance\n",
    "# Student --- class name\n",
    "# () --- parenthesis is used to call the constructor.So,constructor is called automatically while instantiating the object\n",
    "# self -- nothing but the object created.self points the same memory location as the object"
   ]
  },
  {
   "cell_type": "code",
   "execution_count": 90,
   "id": "a8941a11-e5d0-4b90-a7d4-d65e3fb68bfa",
   "metadata": {},
   "outputs": [
    {
     "name": "stdout",
     "output_type": "stream",
     "text": [
      "karan\n"
     ]
    }
   ],
   "source": [
    "class Student:\n",
    "\n",
    "    def __init__(self,fullname):       # self,fullname ---- parameters\n",
    "        self.name = fullname           # name variable is created in class \n",
    "\n",
    "s1 = Student('karan')\n",
    "print(s1.name)"
   ]
  },
  {
   "cell_type": "code",
   "execution_count": 92,
   "id": "a37cd617-5132-4bf9-8774-d0cd4fc09f46",
   "metadata": {},
   "outputs": [
    {
     "name": "stdout",
     "output_type": "stream",
     "text": [
      "adding new student in database\n",
      "karan\n",
      "adding new student in database\n",
      "arjun\n"
     ]
    }
   ],
   "source": [
    " class Student:\n",
    "\n",
    "    def __init__(self,fullname):       # self,fullname ---- parameters\n",
    "        self.name = fullname           # name variable is created in class \n",
    "        print('adding new student in database')\n",
    "\n",
    "s1 = Student('karan')\n",
    "print(s1.name)\n",
    "\n",
    "s2 = Student('arjun')\n",
    "print(s2.name)\n",
    "\n",
    "# with the help of self parameter we can store different variables or different data can be stored"
   ]
  },
  {
   "cell_type": "markdown",
   "id": "0f134a21-a118-4eb2-8105-9ac47b71092f",
   "metadata": {},
   "source": [
    "**The data or variables that is stored inside class are called as `attributes`**"
   ]
  },
  {
   "cell_type": "code",
   "execution_count": 95,
   "id": "37fcfc19-4d5d-4310-b689-73f3e45c6242",
   "metadata": {},
   "outputs": [
    {
     "name": "stdout",
     "output_type": "stream",
     "text": [
      "adding new student in database\n",
      "karan 97\n",
      "adding new student in database\n",
      "arjun 88\n"
     ]
    }
   ],
   "source": [
    " class Student:\n",
    "\n",
    "    def __init__(self,name,marks):     # self,name,marks --- parameters  \n",
    "        self.name = name               # name,marks --- arguments\n",
    "        self.marks = marks             # self.name,self.marks --- attributes\n",
    "        print('adding new student in database')\n",
    "\n",
    "s1 = Student('karan', 97)\n",
    "print(s1.name,s1.marks)\n",
    "\n",
    "s2 = Student('arjun', 88)\n",
    "print(s2.name, s2.marks)"
   ]
  },
  {
   "cell_type": "markdown",
   "id": "caafc352-a5c2-4b01-8ea3-045d5ff40704",
   "metadata": {},
   "source": [
    "#### Theoratically, constructors are belongs to two categories.\n",
    "\n",
    "* 1) default constructor            2) parameterized constructor\n",
    "* if we do not create a default constructor by default python considers a default constructor"
   ]
  },
  {
   "cell_type": "code",
   "execution_count": 98,
   "id": "8bc37c7d-4400-4b79-beda-5ac68866b3a6",
   "metadata": {},
   "outputs": [
    {
     "name": "stdout",
     "output_type": "stream",
     "text": [
      "adding new student in database\n",
      "karan 97\n",
      "adding new student in database\n",
      "arjun 88\n"
     ]
    }
   ],
   "source": [
    " class Student:\n",
    "\n",
    "     # default constructors \n",
    "    def __init__(self,name,marks):     \n",
    "          pass\n",
    "    # parameterized constructors\n",
    "    def __init__(self,name,marks):     # self,name,marks --- parameters  \n",
    "        self.name = name               # name,marks --- arguments\n",
    "        self.marks = marks             # self.name,self.marks --- attributes\n",
    "        print('adding new student in database')\n",
    "\n",
    "s1 = Student('karan', 97)\n",
    "print(s1.name,s1.marks)\n",
    "\n",
    "s2 = Student('arjun', 88)\n",
    "print(s2.name, s2.marks)\n",
    "\n",
    "# constructor which matches the parameters given will be executed\n",
    "# usually we do not create multiple constructors under same class.Acc to need ,we create single constructor"
   ]
  },
  {
   "cell_type": "markdown",
   "id": "e80eb68d-5efe-46c7-9bbe-2af3d10326c4",
   "metadata": {},
   "source": [
    "## Class & Instance Attributes :\n",
    "\n",
    "* Two types of attributes .\n",
    "\n",
    "  1) Class.attr (attr owned by class and common for all objects created for that class)\n",
    "  \n",
    "  2) obj.attr (different for each object)\n",
    "     * self.name ---- object attr since name varies for each object and self is a reference to that object."
   ]
  },
  {
   "cell_type": "code",
   "execution_count": 101,
   "id": "1ebad719-a6de-4c90-bc04-892849d0e397",
   "metadata": {},
   "outputs": [
    {
     "name": "stdout",
     "output_type": "stream",
     "text": [
      "adding new student in database\n",
      "karan 97\n",
      "adding new student in database\n",
      "arjun 88\n",
      "ABC College\n",
      "ABC College\n"
     ]
    }
   ],
   "source": [
    "class Student:\n",
    "    college_name = 'ABC College'       # class attribute(applicable for every object)\n",
    "    def __init__(self,name,marks):      \n",
    "        self.name = name               # name,marks -- object attributes(applicable for specified object only)  \n",
    "        self.marks = marks        \n",
    "        print('adding new student in database')\n",
    "\n",
    "s1 = Student('karan', 97)\n",
    "print(s1.name,s1.marks)\n",
    "\n",
    "s2 = Student('arjun', 88)\n",
    "print(s2.name, s2.marks)  # object attribute is accessed by using only object attribute \n",
    "print(s2.college_name)    # class attribute can be accessed using class name as well as object name\n",
    "\n",
    "print(Student.college_name)"
   ]
  },
  {
   "cell_type": "code",
   "execution_count": 103,
   "id": "2a93e471-c3bb-4fb3-b1ad-5cf52a22fdea",
   "metadata": {},
   "outputs": [
    {
     "name": "stdout",
     "output_type": "stream",
     "text": [
      "adding new student in database\n",
      "karan\n"
     ]
    }
   ],
   "source": [
    "class Student:\n",
    "    college_name = 'ABC College'  \n",
    "    name = 'anonymous'             # class attr\n",
    "    \n",
    "    def __init__(self,name,marks):  \n",
    "        self.name = name               # obj attr > class attr\n",
    "        self.marks = marks\n",
    "        print('adding new student in database')\n",
    "\n",
    "s1 = Student('karan', 97)\n",
    "print(s1.name)\n",
    "\n",
    "\n",
    "# same name attr so, everytime object attribute is preferred.\n",
    "# generally we don't take same attr under both object and class unless we want to take the attr value bydefault if value is not passed"
   ]
  },
  {
   "cell_type": "markdown",
   "id": "caf80fc8-510d-4e1a-9800-cb46413409e9",
   "metadata": {},
   "source": [
    "## Methods :\n",
    "\n",
    "**Methods are functions that belong to objects**\n",
    "* Basically,class is a collection of two things.\n",
    "    1) data(attributes)\n",
    "    2) methods"
   ]
  },
  {
   "cell_type": "code",
   "execution_count": 106,
   "id": "cc52e1e3-54ba-4209-b4a1-86402a6914e0",
   "metadata": {},
   "outputs": [
    {
     "name": "stdout",
     "output_type": "stream",
     "text": [
      "hello karan\n"
     ]
    }
   ],
   "source": [
    "# creating class\n",
    "\n",
    "class Student:\n",
    "    def __init__(self,fullname):\n",
    "        self.name = fullname\n",
    "\n",
    "# deining a method\n",
    "    def hello(self):\n",
    "        print('hello',self.name)\n",
    "\n",
    "# creating object\n",
    "\n",
    "s1 = Student('karan')\n",
    "s1.hello()"
   ]
  },
  {
   "cell_type": "code",
   "execution_count": 108,
   "id": "bc0aa0d8-b0ad-4e73-a677-7bfc88911e72",
   "metadata": {},
   "outputs": [
    {
     "name": "stdout",
     "output_type": "stream",
     "text": [
      "welcome student\n"
     ]
    }
   ],
   "source": [
    "class Student:\n",
    "    college_name = 'ABC College'\n",
    "\n",
    "    def __init__(self,name,marks):\n",
    "        self.name = name\n",
    "        self.marks = marks\n",
    "\n",
    "    def welcome(self):\n",
    "        print('welcome student')\n",
    "\n",
    "s1 = Student('karan',97)\n",
    "s1.welcome()"
   ]
  },
  {
   "cell_type": "code",
   "execution_count": 110,
   "id": "515eff92-ee9e-486b-abe7-43c85d6fdfe2",
   "metadata": {},
   "outputs": [
    {
     "name": "stdout",
     "output_type": "stream",
     "text": [
      "welcome student, karan\n"
     ]
    }
   ],
   "source": [
    "# we can use properties of objects under methods\n",
    "\n",
    "class Student:\n",
    "    college_name = 'ABC College'\n",
    "\n",
    "    def __init__(self,name,marks):\n",
    "        self.name = name\n",
    "        self.marks = marks\n",
    "\n",
    "    def welcome(self):\n",
    "        print('welcome student,',self.name)\n",
    "\n",
    "s1 = Student('karan',97)\n",
    "s1.welcome()"
   ]
  },
  {
   "cell_type": "code",
   "execution_count": 112,
   "id": "866e4307-bef9-4494-bb78-deb07c1c13c8",
   "metadata": {},
   "outputs": [
    {
     "name": "stdout",
     "output_type": "stream",
     "text": [
      "welcome student, karan\n",
      "97\n"
     ]
    }
   ],
   "source": [
    "class Student:\n",
    "    college_name = 'ABC College'\n",
    "\n",
    "    def __init__(self,name,marks):\n",
    "        self.name = name\n",
    "        self.marks = marks\n",
    "\n",
    "    def welcome(self):\n",
    "        print('welcome student,',self.name)\n",
    "    def get_marks(self):\n",
    "        return self.marks\n",
    "\n",
    "s1 = Student('karan',97)\n",
    "s1.welcome()\n",
    "print(s1.get_marks())\n",
    "\n",
    "# functions defined inside class called as methods"
   ]
  },
  {
   "cell_type": "markdown",
   "id": "b961b8b6-ffd5-406a-b431-4f3d24066c90",
   "metadata": {},
   "source": [
    "**Practice Question**\n",
    "\n",
    "Create student class that takes name & marks of 3 subjects as arguments in constructor.Then create a ethod to print the average."
   ]
  },
  {
   "cell_type": "code",
   "execution_count": 115,
   "id": "68b39f1f-8237-4862-92ad-0cbd5f0c8aa3",
   "metadata": {},
   "outputs": [
    {
     "name": "stdout",
     "output_type": "stream",
     "text": [
      "hi tony stark your average score is: 98.0\n",
      "hi ironman your average score is: 98.0\n"
     ]
    }
   ],
   "source": [
    "class Student:\n",
    "\n",
    "    def __init__(self,name,marks):\n",
    "        self.name = name\n",
    "        self.marks = marks\n",
    "\n",
    "    def get_avg(self):\n",
    "        sum = 0\n",
    "        for val in self.marks:\n",
    "            sum += val\n",
    "        print('hi',self.name,'your average score is:', sum/3)\n",
    "\n",
    "s1 = Student('tony stark',[99,98,97])\n",
    "s1.get_avg()\n",
    "\n",
    "s1.name = 'ironman'     # we can manipulate the attributes\n",
    "s1.get_avg()"
   ]
  },
  {
   "cell_type": "markdown",
   "id": "9d63e4f1-9f35-43d7-b5bc-6be4d6a3f6d7",
   "metadata": {},
   "source": [
    "# Static Methods:"
   ]
  },
  {
   "cell_type": "markdown",
   "id": "7f5a80bc-6738-4a26-bc95-d22a911c75d0",
   "metadata": {},
   "source": [
    " **Methods that don't use the self parameter(work at class level)** \n",
    "\n",
    " * methods that use self parameter are called static methods\n",
    " * for static method we use a decorator `@staticmethod` ---- decorator\n",
    " * \"Decorators allow us to wrap another function in order to extend the behaviour of the wrapped function,without permanently modifying it.\""
   ]
  },
  {
   "cell_type": "code",
   "execution_count": 1,
   "id": "5169245a-aceb-4de5-b5fa-3efbe522a44b",
   "metadata": {},
   "outputs": [
    {
     "name": "stdout",
     "output_type": "stream",
     "text": [
      "ABC College\n"
     ]
    }
   ],
   "source": [
    "class Student:\n",
    "    @staticmethod   # deccorator\n",
    "    def college():\n",
    "        print('ABC College')\n",
    "Student.college()"
   ]
  },
  {
   "cell_type": "markdown",
   "id": "510f90c9-2a86-4762-a74e-7af4db115d1c",
   "metadata": {},
   "source": [
    "**Important**\n",
    "### Four pillars of OOP :\n",
    "* Abstraction\n",
    "* Encapsulation\n",
    "* Inheritance\n",
    "* Polymorphism\n",
    "\n",
    "## <mark><u>Abstarction</u></mark> :\n",
    "**Hiding the implementation details of a class and only showing the essential feautures to the user.**\n"
   ]
  },
  {
   "cell_type": "code",
   "execution_count": 21,
   "id": "7c19898c-4b77-4674-be59-6d5044a6268e",
   "metadata": {},
   "outputs": [],
   "source": [
    "class Car:\n",
    "    def __init__(self):\n",
    "        self.acc = False\n",
    "        self.brk = False\n",
    "        self.clutch = False\n",
    "    def start(self):\n",
    "        self.clutch = True\n",
    "        self.acc = True\n",
    "        print('car started..')"
   ]
  },
  {
   "cell_type": "code",
   "execution_count": 23,
   "id": "5a57bd96-cc9c-4065-a705-efe77b7886b2",
   "metadata": {},
   "outputs": [],
   "source": [
    "car1 = Car()"
   ]
  },
  {
   "cell_type": "code",
   "execution_count": 25,
   "id": "7d245ae0-f7a6-41b5-88c3-a5b2cb1878b1",
   "metadata": {},
   "outputs": [
    {
     "name": "stdout",
     "output_type": "stream",
     "text": [
      "car started..\n"
     ]
    }
   ],
   "source": [
    "car1.start()"
   ]
  },
  {
   "cell_type": "markdown",
   "id": "e491a327-62aa-437a-b611-f7045e9add42",
   "metadata": {},
   "source": [
    "## <mark><u>Encapsulation</u></mark>:\n",
    "\n",
    "**Wrapping data and functions into a single unit(object).**"
   ]
  },
  {
   "cell_type": "markdown",
   "id": "314b7ea9-8f19-4393-bb71-7f8083a004d5",
   "metadata": {},
   "source": [
    "**practice question :**\n",
    "#### create Account class with 2 attributes - balance & account no..create methods for debit,credit & printing the balance."
   ]
  },
  {
   "cell_type": "code",
   "execution_count": 37,
   "id": "3512a460-d48c-4a69-8682-9fe8c65aa199",
   "metadata": {},
   "outputs": [
    {
     "name": "stdout",
     "output_type": "stream",
     "text": [
      "Rs. 1000 was debited\n",
      "Available Balance : 9000\n",
      "Rs. 500 was credited\n",
      "Available Balance : 9500\n",
      "Rs. 40000 was credited\n",
      "Available Balance : 49500\n",
      "Rs. 10000 was debited\n",
      "Available Balance : 39500\n"
     ]
    }
   ],
   "source": [
    "class Account:\n",
    "    def __init__(self,bal,acc):\n",
    "        self.balance = bal\n",
    "        self.account_no = acc\n",
    "    \n",
    "    #debit method\n",
    "    def debit(self,amount):\n",
    "        self.balance -= amount\n",
    "        print('Rs.',amount,'was debited')\n",
    "        print('Available Balance :' , self.get_balance())\n",
    "\n",
    "        \n",
    "\n",
    "    #credit method\n",
    "    def credit(self,amount):\n",
    "        self.balance += amount\n",
    "        print('Rs.',amount,'was credited')\n",
    "        print('Available Balance :' , self.get_balance())\n",
    "\n",
    "    #print balance\n",
    "    def get_balance(self):\n",
    "        return self.balance\n",
    "    \n",
    "    \n",
    "\n",
    "acc1 = Account(10000, 12345)\n",
    "acc1.debit(1000)\n",
    "acc1.credit(500) \n",
    "acc1.credit(40000)\n",
    "acc1.debit(10000)"
   ]
  },
  {
   "cell_type": "code",
   "execution_count": null,
   "id": "2d0f36c3-b401-4f72-a188-337fc18948e1",
   "metadata": {},
   "outputs": [],
   "source": []
  },
  {
   "cell_type": "code",
   "execution_count": null,
   "id": "c6cd0638-dc4c-4f0c-ba5d-fcbfb3fe773b",
   "metadata": {},
   "outputs": [],
   "source": []
  },
  {
   "cell_type": "code",
   "execution_count": null,
   "id": "45a93ecd-ca9b-43ca-a6bd-cc25a8d381c3",
   "metadata": {},
   "outputs": [],
   "source": []
  },
  {
   "cell_type": "code",
   "execution_count": null,
   "id": "b291868d-4a57-477c-b2ba-3e4ccd46ee69",
   "metadata": {},
   "outputs": [],
   "source": []
  },
  {
   "cell_type": "code",
   "execution_count": null,
   "id": "ff89488a-4f78-4789-9dcc-f9905250c5c3",
   "metadata": {},
   "outputs": [],
   "source": []
  },
  {
   "cell_type": "code",
   "execution_count": null,
   "id": "72bf3aab-c486-4537-ab9a-540a0a3003fb",
   "metadata": {},
   "outputs": [],
   "source": []
  },
  {
   "cell_type": "code",
   "execution_count": null,
   "id": "b3c90c97-8a9a-4721-b85d-9dfacef39ce0",
   "metadata": {},
   "outputs": [],
   "source": []
  }
 ],
 "metadata": {
  "kernelspec": {
   "display_name": "Python 3 (ipykernel)",
   "language": "python",
   "name": "python3"
  },
  "language_info": {
   "codemirror_mode": {
    "name": "ipython",
    "version": 3
   },
   "file_extension": ".py",
   "mimetype": "text/x-python",
   "name": "python",
   "nbconvert_exporter": "python",
   "pygments_lexer": "ipython3",
   "version": "3.12.7"
  }
 },
 "nbformat": 4,
 "nbformat_minor": 5
}
