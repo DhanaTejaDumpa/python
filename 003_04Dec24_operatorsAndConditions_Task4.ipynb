{
  "nbformat": 4,
  "nbformat_minor": 0,
  "metadata": {
    "colab": {
      "provenance": [],
      "authorship_tag": "ABX9TyMRYkB4si7jtDQVNNPdUQnE",
      "include_colab_link": true
    },
    "kernelspec": {
      "name": "python3",
      "display_name": "Python 3"
    },
    "language_info": {
      "name": "python"
    }
  },
  "cells": [
    {
      "cell_type": "markdown",
      "metadata": {
        "id": "view-in-github",
        "colab_type": "text"
      },
      "source": [
        "<a href=\"https://colab.research.google.com/github/DhanaTejaDumpa/python/blob/main/003_04Dec24_operatorsAndConditions_Task4.ipynb\" target=\"_parent\"><img src=\"https://colab.research.google.com/assets/colab-badge.svg\" alt=\"Open In Colab\"/></a>"
      ]
    },
    {
      "cell_type": "markdown",
      "source": [
        "Date : 04/12/2024\n",
        "\n",
        "Task No - 04\n",
        "\n",
        "# <b><u>Operators And Conditions</u></b>"
      ],
      "metadata": {
        "id": "Hp346NEH2Emf"
      }
    },
    {
      "cell_type": "code",
      "source": [
        "print(\"hi\")"
      ],
      "metadata": {
        "colab": {
          "base_uri": "https://localhost:8080/"
        },
        "id": "49eXJ3eLKWVK",
        "outputId": "18ac9c89-7bb6-41ef-f313-993a57fe41ce"
      },
      "execution_count": 1,
      "outputs": [
        {
          "output_type": "stream",
          "name": "stdout",
          "text": [
            "hi\n"
          ]
        }
      ]
    },
    {
      "cell_type": "code",
      "source": [
        "#Q1. Create different variables to store your name, your age, your parents name.\n",
        "#a. Print your name.\n",
        "#b. Create more variables needed for a Biodata.\n",
        "#c. Now print your whole Bio data using above variables.\n",
        "\n",
        "# a)\n",
        "name = input('Enter your name : ')\n",
        "age = input('Enter your age : ')\n",
        "father_name = input('Enter your father_name : ')\n",
        "mother_name = input('Enter your mother_name : ')\n",
        "\n",
        "print('Name : ',name)\n",
        "\n",
        "# b)\n",
        "\n",
        "mobile = input('Enter your mobile number : +91 ')\n",
        "email_id = input('Enter your email id : ')\n",
        "gender = input('Enter your gender(M/F/Trans) : ')\n",
        "dob = input('Enter your DOB(DD/MM/YYYY) : ')\n",
        "edu = input('Enter your education qualification : ')\n",
        "exp = input('Enter your experience(in years) : ')\n",
        "marital_status = input('Enter your marital status : ')\n",
        "religion = input('Enter your religion : ')\n",
        "mother_tongue = input('Enter your mother tongue : ')\n",
        "blood_group = input('Enter your blood group : ')\n",
        "place = input('Enter your place : ')\n",
        "date = input('Enter date(DD/MM/YYYY) : ',)\n",
        "\n",
        "# c)\n",
        "print('\\n')\n",
        "print('BIODATA : ', end = '\\n')\n",
        "\n",
        "print('Name : ',name)\n",
        "print('Mobile : ',mobile)\n",
        "print('Email id : ',email_id)\n",
        "print('Gender : ',gender)\n",
        "print('Father Name : ' ,father_name)\n",
        "print('Mother Name : ',mother_name)\n",
        "print('Date of Birth : ',dob)\n",
        "print('Age : ',age)\n",
        "print('Education : ',edu)\n",
        "print('Experience : ',exp)\n",
        "print('Marital Status : ',marital_status)\n",
        "print('Religion : ',religion)\n",
        "print('Mother Tongue : ',mother_tongue)\n",
        "print('Blood Group : ',blood_group)\n",
        "print('Place : ',place)\n",
        "print('Date : ',date)\n"
      ],
      "metadata": {
        "id": "xmDAnEZc2RUH",
        "colab": {
          "base_uri": "https://localhost:8080/"
        },
        "outputId": "ea487ead-075a-49df-ff67-2373ddf0456b"
      },
      "execution_count": null,
      "outputs": [
        {
          "output_type": "stream",
          "name": "stdout",
          "text": [
            "Enter your name : teju\n",
            "Enter your age : 25\n",
            "Enter your father_name : sekhar\n",
            "Enter your mother_name : syamala\n",
            "Name :  teju\n",
            "Enter your mobile number : +91 123456789\n",
            "Enter your email id : xyz@abc.com\n",
            "Enter your gender(M/F/Trans) : f\n",
            "Enter your DOB(DD/MM/YYYY) : 11/22/2222\n",
            "Enter your education qualification : xyz\n",
            "Enter your experience(in years) : 0\n",
            "Enter your marital status : unmarried\n",
            "Enter your religion : hindu\n",
            "Enter your mother tongue : telugu\n",
            "Enter your blood group : o+\n",
            "Enter your place : hyd\n",
            "Enter date(DD/MM/YYYY) : 11/22/2223\n",
            "\n",
            "\n",
            "BIODATA : \n",
            "Name :  teju\n",
            "Mobile :  123456789\n",
            "Email id :  xyz@abc.com\n",
            "Gender :  f\n",
            "Father Name :  sekhar\n",
            "Mother Name :  syamala\n",
            "Date of Birth :  11/22/2222\n",
            "Age :  25\n",
            "Education :  xyz\n",
            "Experience :  0\n",
            "Marital Status :  unmarried\n",
            "Religion :  hindu\n",
            "Mother Tongue :  telugu\n",
            "Blood Group :  o+\n",
            "Place :  hyd\n",
            "Date :  11/22/2223\n"
          ]
        }
      ]
    },
    {
      "cell_type": "code",
      "source": [
        "#Q2. Create two variables. One to store your First name and another one to store your surname. Now, Print your name so that the surname prints first.\n",
        "\n",
        "f_name = 'DhanaTeja'\n",
        "s_name = 'D'\n",
        "print(s_name, f_name)"
      ],
      "metadata": {
        "id": "CtNLTjd12Rja",
        "colab": {
          "base_uri": "https://localhost:8080/"
        },
        "outputId": "c90f1fb0-ae1b-4144-9f1b-f6774357aabd"
      },
      "execution_count": null,
      "outputs": [
        {
          "output_type": "stream",
          "name": "stdout",
          "text": [
            "D DhanaTeja\n"
          ]
        }
      ]
    },
    {
      "cell_type": "markdown",
      "source": [
        "Q3. a. Write rules on how to create a Variable in markdown cell using text formatting.\n",
        "\n",
        "* Don't use any word which `changes its color`.Because those words will have a specific purpose`(keyword or pre defined function)`\n",
        "* variable name can not start with a `number`(0 to 9).\n",
        "* A variable name must begin with an `alphabet` or `underscore(_)`\n",
        "* Apart from underscore, you are not supposed to use any other special character in the name of a variable."
      ],
      "metadata": {
        "id": "_u-jl5reyHBT"
      }
    },
    {
      "cell_type": "code",
      "source": [
        "# 3b) Print type of the below variables:\n",
        "a = 4.5\n",
        "b = 'Innomatics'\n",
        "c = 100\n",
        "d = True\n",
        "print(f'{a} belongs to {type(a)}')\n",
        "print(f'{b} belongs to {type(b)}')\n",
        "print(f'{c} belongs to {type(c)}')\n",
        "print(f'{d} belongs to {type(d)}')"
      ],
      "metadata": {
        "id": "vJSjf7pY2F8l",
        "colab": {
          "base_uri": "https://localhost:8080/"
        },
        "outputId": "01a29a13-6b3c-4bb9-bc60-aa0950771ba7"
      },
      "execution_count": null,
      "outputs": [
        {
          "output_type": "stream",
          "name": "stdout",
          "text": [
            "4.5 belongs to <class 'float'>\n",
            "Innomatics belongs to <class 'str'>\n",
            "100 belongs to <class 'int'>\n",
            "True belongs to <class 'bool'>\n"
          ]
        }
      ]
    },
    {
      "cell_type": "code",
      "source": [
        "#Q4. Create a variable called break and assign it a value 16. See what happens and find out the reason behind the behavior that you see.\n",
        "\n",
        "break = 16"
      ],
      "metadata": {
        "id": "hwL1pwXX2Smt",
        "colab": {
          "base_uri": "https://localhost:8080/",
          "height": 106
        },
        "outputId": "b2324918-7d46-447a-8987-48376fb74345"
      },
      "execution_count": null,
      "outputs": [
        {
          "output_type": "error",
          "ename": "SyntaxError",
          "evalue": "invalid syntax (<ipython-input-9-9cdbbd7b16ed>, line 3)",
          "traceback": [
            "\u001b[0;36m  File \u001b[0;32m\"<ipython-input-9-9cdbbd7b16ed>\"\u001b[0;36m, line \u001b[0;32m3\u001b[0m\n\u001b[0;31m    break = 16\u001b[0m\n\u001b[0m          ^\u001b[0m\n\u001b[0;31mSyntaxError\u001b[0m\u001b[0;31m:\u001b[0m invalid syntax\n"
          ]
        }
      ]
    },
    {
      "cell_type": "markdown",
      "source": [
        "<b>Explanation </b>:\n",
        "\n",
        "* `break` is a <u>keyword</u> in Python, and keywords cannot be used as variable names.\n",
        "* We can't assign a value to `break`,because it is a reserved keyword.\n",
        "\n",
        "Note : \"break\" statement is used to exit from loops (such as for or while loops) prematurely."
      ],
      "metadata": {
        "id": "9PkWS0i1zJsv"
      }
    },
    {
      "cell_type": "code",
      "source": [
        "#Q5. You have a floor that is 52 meters long and 88.7 meters wide. Find out the total area using python and print it.\n",
        "\n",
        "l = 52\n",
        "b = 88.7\n",
        "a = l*b\n",
        "print('Total Area of Floor = ',a)"
      ],
      "metadata": {
        "id": "f1l7Aho62S3t",
        "colab": {
          "base_uri": "https://localhost:8080/"
        },
        "outputId": "4f1fae35-a78d-41a1-822d-9c7910795a93"
      },
      "execution_count": null,
      "outputs": [
        {
          "output_type": "stream",
          "name": "stdout",
          "text": [
            "Total Area of Floor =  4612.400000000001\n"
          ]
        }
      ]
    },
    {
      "cell_type": "markdown",
      "source": [
        "### Operators."
      ],
      "metadata": {
        "id": "Vh0GA4GwzZ0f"
      }
    },
    {
      "cell_type": "code",
      "source": [
        "#1. Define two variables, a and b, with values 12 and 5 respectively. Write a Python program to calculate and print their sum, difference, product, quotient, and modulus.\n",
        "a = 12\n",
        "b = 5\n",
        "print(f'sum of {a} and {b} is {a + b}')\n",
        "print(f'difference of {a} and {b} is {a - b}')\n",
        "print(f'product of {a} and {b} is {a * b}')\n",
        "print(f'quotient of {a} and {b} is {a // b}')\n",
        "print(f'modulus of {a} and {b} is {a % b}')"
      ],
      "metadata": {
        "id": "TcfA5au82TG3",
        "colab": {
          "base_uri": "https://localhost:8080/"
        },
        "outputId": "cae3eb61-4d86-481e-a424-7aca9582fddf"
      },
      "execution_count": null,
      "outputs": [
        {
          "output_type": "stream",
          "name": "stdout",
          "text": [
            "sum of 12 and 5 is 17\n",
            "difference of 12 and 5 is 7\n",
            "product of 12 and 5 is 60\n",
            "quotient of 12 and 5 is 2\n",
            "modulus of 12 and 5 is 2\n"
          ]
        }
      ]
    },
    {
      "cell_type": "code",
      "source": [
        "#2.Given three boolean variables, p = True, q = False, and r = True, write a Python program that evaluates and prints the result of the logical expressions p and q, p or q, and not r.\n",
        "\n",
        "p,q,r = True, False, True\n",
        "print(f'p and q results in {p and q}')\n",
        "print(f'p and q results in {p or q}')\n",
        "print(f'not r results in {not r}')"
      ],
      "metadata": {
        "id": "8mTcAa0Y2TUE",
        "colab": {
          "base_uri": "https://localhost:8080/"
        },
        "outputId": "9d9eac1f-a1fd-46e7-f5cf-1184ca39dea5"
      },
      "execution_count": null,
      "outputs": [
        {
          "output_type": "stream",
          "name": "stdout",
          "text": [
            "p and q results in False\n",
            "p and q results in True\n",
            "not r results in False\n"
          ]
        }
      ]
    },
    {
      "cell_type": "code",
      "source": [
        "#3. Write a Python program to evaluate the expression 10 + 2 * 3 / 4 - 5 ** 2 and print the result. Explain the order in which the operations are performed using comments.\n",
        "\n",
        "x = 10 + 2 * 3 / 4 - 5 ** 2\n",
        "print(x)\n",
        "\n",
        "# step 1 : 5 ** 2 = 25  --- power\n",
        "# step 2 : 2 * 3 = 6    --- multiplication (since multiplication before division)\n",
        "# step 3 : (2 * 3)/4 = 1.5 --- division\n",
        "# step 4 : 10 + 1.5 = 11.5 --- addition\n",
        "# step 5 : 11.5 - 25 = -13.5 --- subtraction"
      ],
      "metadata": {
        "id": "v6GON5t_2UUg",
        "colab": {
          "base_uri": "https://localhost:8080/"
        },
        "outputId": "e0cc0920-8a4e-43aa-8c15-337c8b00bab8"
      },
      "execution_count": null,
      "outputs": [
        {
          "output_type": "stream",
          "name": "stdout",
          "text": [
            "-13.5\n"
          ]
        }
      ]
    },
    {
      "cell_type": "markdown",
      "source": [
        "<u>Explanation</u> :\n",
        "\n",
        "* solved using `BODMAS`,which is an acronym helps in solving mathematical expressions with multiple operations.\n",
        "  * B : Brackets\n",
        "  * O : Order of powers or roots\n",
        "  * D : Division\n",
        "  * M : Multiplication\n",
        "  * A : Addition\n",
        "  * S : Subtraction\n",
        "\n",
        "Note : Rules to be followed\n",
        "\n",
        "* solve the expression from left to right\n",
        "* division and multiplication are interchangeable,and you should do whichever comes first.\n",
        "\n",
        "![](https://cdn1.byjus.com/wp-content/uploads/2021/10/BODMAS-and-PEMDAS.png)"
      ],
      "metadata": {
        "id": "Iag9Jbwo56YT"
      }
    },
    {
      "cell_type": "code",
      "source": [
        "#4.Write a Python program to evaluate the expression (8 + 2) * (3 - 1) ** 2 / 2 and explain how the use of parentheses affects the result using comments.\n",
        "\n",
        "x = (8 + 2) * (3 - 1) ** 2 / 2\n",
        "print(x)\n",
        "\n",
        "# step 1 : (8 + 2) = 10 and (3 - 1) = 2 --- solve brackets\n",
        "# step 2 : 2 ** 2 = 4 ---- exponent\n",
        "# step 3 : 10 * 4--- multiplication(left to right,multiplication comes first)\n",
        "# step 4 : 40 / 2 --- Division"
      ],
      "metadata": {
        "id": "KDZRmvyr2VRK",
        "colab": {
          "base_uri": "https://localhost:8080/"
        },
        "outputId": "c50707f3-8f88-452b-94f1-4fd5ad7b07bc"
      },
      "execution_count": null,
      "outputs": [
        {
          "output_type": "stream",
          "name": "stdout",
          "text": [
            "20.0\n"
          ]
        }
      ]
    },
    {
      "cell_type": "code",
      "source": [
        "#5. Define two variables, a = 5 and b = 5. Write a Python program to check if both variables point to the same object in memory using the is and is not operators. Print the results.\n",
        "a = 5\n",
        "b = 5\n",
        "print(f'both point same object in memory : {a is b}')   # checks if a and b refers to same object,returns True\n",
        "print(f'both do not point same object in memory : {a is not b}') #checks if a and b  does not refer to same object,returns True"
      ],
      "metadata": {
        "id": "c9338Z7OArid",
        "colab": {
          "base_uri": "https://localhost:8080/"
        },
        "outputId": "034204cc-8178-44bd-9e9b-2db28ea74d38"
      },
      "execution_count": null,
      "outputs": [
        {
          "output_type": "stream",
          "name": "stdout",
          "text": [
            "both point same object in memory : True\n",
            "both do not point same object in memory : False\n"
          ]
        }
      ]
    },
    {
      "cell_type": "code",
      "source": [
        "#6. Define three variables, a = True, b = False, and c = True. Write a Python program to evaluate the expression (a and b) or (not c) and print the result.\n",
        "\n",
        "a = True\n",
        "b = False\n",
        "c = True\n",
        "print(f'a and b results in {(a and b) or (not c)}')\n",
        "\n",
        "# step 1 : a and b ---- False\n",
        "# step 2 : not c ---- False\n",
        "# step 3 : (a and b) or (not c) ----False or False --False"
      ],
      "metadata": {
        "colab": {
          "base_uri": "https://localhost:8080/"
        },
        "id": "2zzVmLgEAsDB",
        "outputId": "af62febe-06b9-4860-9f5f-8a172b8d9ce9"
      },
      "execution_count": null,
      "outputs": [
        {
          "output_type": "stream",
          "name": "stdout",
          "text": [
            "a and b results in False\n"
          ]
        }
      ]
    },
    {
      "cell_type": "code",
      "source": [
        "#7. Write a program to create a new string made of an input string’s first, middle, and last character.\n",
        "# Example input: Holiday\n",
        "# Example output: Hiy\n",
        "# Create a string made of the middle two characters.\n",
        "# Example input: Innomatics\n",
        "# Example output: ma\n",
        "\n",
        "x = input('enter a string of odd length : ')\n",
        "lx = len(x)\n",
        "x[::lx//2]\n",
        "\n",
        "x = input('enter a string of even length : ')\n",
        "lx = len(x)\n",
        "x[(lx//2) -1 : (lx//2) + 1]\n",
        "\n"
      ],
      "metadata": {
        "colab": {
          "base_uri": "https://localhost:8080/",
          "height": 53
        },
        "id": "tGg-ZYM6AsdX",
        "outputId": "c1a6536a-dcda-4915-c2a1-e57f0cbf63d4"
      },
      "execution_count": null,
      "outputs": [
        {
          "name": "stdout",
          "output_type": "stream",
          "text": [
            "enter a string of odd lengthdhana\n"
          ]
        },
        {
          "output_type": "execute_result",
          "data": {
            "text/plain": [
              "'daa'"
            ],
            "application/vnd.google.colaboratory.intrinsic+json": {
              "type": "string"
            }
          },
          "metadata": {},
          "execution_count": 2
        }
      ]
    },
    {
      "cell_type": "code",
      "source": [
        "x = input('enter a string of length : ')\n",
        "lx = len(x)\n",
        "if lx % 2 == 0:\n",
        "  print(x[(lx//2) -1 : (lx//2) + 1])\n",
        "else :\n",
        "  print(x[::lx//2])\n"
      ],
      "metadata": {
        "colab": {
          "base_uri": "https://localhost:8080/"
        },
        "id": "Tfjk4-dx7sfW",
        "outputId": "3d514748-ee44-4567-8a93-3e891a5e76fa"
      },
      "execution_count": null,
      "outputs": [
        {
          "output_type": "stream",
          "name": "stdout",
          "text": [
            "enter a string of length : heavy\n",
            "hay\n"
          ]
        }
      ]
    },
    {
      "cell_type": "markdown",
      "source": [
        "### Conditional statements"
      ],
      "metadata": {
        "id": "eE20bqRkHGJ2"
      }
    },
    {
      "cell_type": "code",
      "source": [
        "#1. Write a program to check whether the last digit of a number (entered by user) is divisible by 3 or not.\n",
        "\n",
        "a = input('Enter a number : ')\n",
        "lastDigit = int(a[-1])\n",
        "print(f'lastDigit is {lastDigit}')\n",
        "if lastDigit % 3 == 0 :\n",
        "  print(f'{lastDigit} is divisible by 3')\n",
        "else :\n",
        "  print(f'{lastDigit} is not divisible by 3')"
      ],
      "metadata": {
        "colab": {
          "base_uri": "https://localhost:8080/"
        },
        "id": "HupLJGbxAtAl",
        "outputId": "042e7919-fd8a-4793-cc24-65095cc29922"
      },
      "execution_count": null,
      "outputs": [
        {
          "output_type": "stream",
          "name": "stdout",
          "text": [
            "Enter a number : 136\n",
            "lastDigit is 6\n",
            "6 is divisible by 3\n"
          ]
        }
      ]
    },
    {
      "cell_type": "code",
      "source": [
        "#2. A company decided to give a bonus of 5% of their salary to employees if his/her years of service is more than 5 years.\n",
        "# Ask the user for their salary and years of service and print the net amount of that person.\n",
        "\n",
        "sal = int(input('Enter your salary : '))\n",
        "yos = int(input('Enter your number of years of service : '))\n",
        "\n",
        "if yos > 5 :\n",
        "  sal += 5/100 * sal\n",
        "  print(f'net amount of salary including bonus : {sal}')\n",
        "else :\n",
        "  print('No bonus')"
      ],
      "metadata": {
        "id": "45cj94j02VoC",
        "colab": {
          "base_uri": "https://localhost:8080/"
        },
        "outputId": "87f4442b-01f4-44b4-d179-bb87d0aca79e"
      },
      "execution_count": null,
      "outputs": [
        {
          "output_type": "stream",
          "name": "stdout",
          "text": [
            "Enter your salary : 50000\n",
            "Enter your number of years of service : 6\n",
            "net amount of salary including bonus : 52500.0\n"
          ]
        }
      ]
    },
    {
      "cell_type": "code",
      "source": [
        "#3. A school has following rules for grading system:\n",
        "#a. Below 25 - F grade\n",
        "#b. 25 to 45 - E\n",
        "#c. 45 to 50 - D\n",
        "#d. 50 to 60 - C\n",
        "#e. 60 to 80 - B\n",
        "#f. Above 80 - A\n",
        "#Ask the user to enter marks and print the corresponding grade.\n",
        "\n",
        "marks = int(input('Enter your Marks : '))\n",
        "\n",
        "if marks < 25 :\n",
        "  print('Grade : F')\n",
        "elif 25 <= marks < 45 :\n",
        "  print('Grade : E')\n",
        "elif 45 <= marks < 50 :\n",
        "  print('Grade : D')\n",
        "elif 50 <= marks < 60 :\n",
        "  print('Grade : C')\n",
        "elif 60 <= marks < 80 :\n",
        "  print('Grade : B')\n",
        "else :\n",
        "  print('Grade : A')\n",
        "\n"
      ],
      "metadata": {
        "id": "scgjw-np2W3E",
        "colab": {
          "base_uri": "https://localhost:8080/"
        },
        "outputId": "69d3b8ae-d7ba-485a-f9dc-5323af378881"
      },
      "execution_count": null,
      "outputs": [
        {
          "output_type": "stream",
          "name": "stdout",
          "text": [
            "Enter your Marks : 65\n",
            "Grade : B\n"
          ]
        }
      ]
    },
    {
      "cell_type": "code",
      "source": [
        "#1. Write a Python program to calculate the total and average of three numbers entered by the user.\n",
        " \t\t#Ensure the average is a floating-point value.\n",
        "\n",
        "n1 = int(input('Enter your first number : '))\n",
        "n2 = int(input('Enter your second number : '))\n",
        "n3 = int(input('Enter your third number : '))\n",
        "\n",
        "total = n1 + n2 + n3\n",
        "print(f'Total of given three numbers is {total}')\n",
        "\n",
        "average = total/3\n",
        "print(f'Average of given three numbers is {average}')"
      ],
      "metadata": {
        "colab": {
          "base_uri": "https://localhost:8080/"
        },
        "id": "FTNFMu2-ilga",
        "outputId": "046c0ab3-1903-4f96-9707-0b070086552f"
      },
      "execution_count": null,
      "outputs": [
        {
          "output_type": "stream",
          "name": "stdout",
          "text": [
            "Enter your first number : 6\n",
            "Enter your second number : 5\n",
            "Enter your third number : 2\n",
            "Total of given three numbers is 13\n",
            "Average of given three numbers is 4.333333333333333\n"
          ]
        }
      ]
    },
    {
      "cell_type": "code",
      "source": [
        "#2. Write a Python program that asks the user for two integers and prints:\n",
        "# The sum if the first number is greater than the second.\n",
        "# The difference otherwise.\n",
        "\n",
        "i1 = int(input('Enter first integer value : '))\n",
        "i2 = int(input('Enter second integer value : '))\n",
        "\n",
        "if i1 > i2 :\n",
        "  print(f'since first number is greater than second one, their sum = {i1 + i2}')\n",
        "else :\n",
        "   print(f'since first number is not greater than second one, their difference = {i1 - i2}')\n"
      ],
      "metadata": {
        "colab": {
          "base_uri": "https://localhost:8080/"
        },
        "id": "DpWLcGbpil1C",
        "outputId": "ecc7a132-176a-46ab-f44c-ae353b724e49"
      },
      "execution_count": null,
      "outputs": [
        {
          "output_type": "stream",
          "name": "stdout",
          "text": [
            "Enter first integer value : 12\n",
            "Enter second integer value : 24\n",
            "since first number is not greater than second one, their difference = -12\n"
          ]
        }
      ]
    },
    {
      "cell_type": "code",
      "source": [
        "#3. Write a Python program to check if a number is divisible by both 3 and 5.\n",
        "\n",
        "n = int(input('Enter a number : '))\n",
        "if n % 3 == 0 and  n % 5 == 0 :\n",
        "  print(f'{n} is divisible by both 3 and 5')\n",
        "elif n % 3 == 0 :\n",
        "  print(f'{n} is divisible by 3 only')\n",
        "elif n % 5 == 0 :\n",
        "  print(f'{n} is divisible by 5 only')\n",
        "else :\n",
        "  print(f'{n} is not divisible by both 3 and 5')"
      ],
      "metadata": {
        "colab": {
          "base_uri": "https://localhost:8080/"
        },
        "id": "rzEeaPsXimIU",
        "outputId": "c7cfc4e3-c678-47fa-8a5e-d9f5a0eb4572"
      },
      "execution_count": null,
      "outputs": [
        {
          "output_type": "stream",
          "name": "stdout",
          "text": [
            "Enter a number : 15\n",
            "15 is divisible by both 3 and 5\n"
          ]
        }
      ]
    },
    {
      "cell_type": "code",
      "source": [
        "#4. Write a Python program to check if a number lies between 10 and 50, but not between 20 and 30.\n",
        "\n",
        "n = int(input('Enter a number : '))\n",
        "if 10 <= n <= 50 :\n",
        "  if 20 <= n <= 30 :\n",
        "    print(f'{n} is not satisfying the given condition')\n",
        "  else :\n",
        "    print(f'{n} satisfies given condition')\n",
        "else :\n",
        " print(f'{n} does not lie between 10 and 50')"
      ],
      "metadata": {
        "id": "AjghhnBW2XJN",
        "colab": {
          "base_uri": "https://localhost:8080/"
        },
        "outputId": "65669fae-43c5-4eb1-e8e4-61048b3cd579"
      },
      "execution_count": null,
      "outputs": [
        {
          "output_type": "stream",
          "name": "stdout",
          "text": [
            "Enter a number : 25\n",
            "25 is not satisfying the given condition\n"
          ]
        }
      ]
    },
    {
      "cell_type": "code",
      "source": [
        "#5. Write a Python program to check if a number entered by the user is equal to, greater than, or less than the square of 10.\n",
        "\n",
        "n = int(input('Enter a number : '))\n",
        "if n == 10 ** 2 :\n",
        "  print(f'{n} is equal to 10 ** 2')\n",
        "elif n > 10 ** 2 :\n",
        "  print(f'{n} is greater than 10 ** 2')\n",
        "else :\n",
        "  print(f'{n} is lesser than 10 ** 2')"
      ],
      "metadata": {
        "colab": {
          "base_uri": "https://localhost:8080/"
        },
        "id": "8Guia5Glr1l2",
        "outputId": "d19fb1d9-d78d-4247-be36-dd833276a688"
      },
      "execution_count": null,
      "outputs": [
        {
          "output_type": "stream",
          "name": "stdout",
          "text": [
            "Enter a number : 25\n",
            "25 is lesser than 10 ** 2\n"
          ]
        }
      ]
    },
    {
      "cell_type": "code",
      "source": [
        "#6. Write a Python program to take two ages as input and determine which person is older. If the ages are the same, print \"Same age!\"\n",
        "\n",
        "age1 = int(input('Enter the age of person1 : '))\n",
        "age2 = int(input('Enter the age of person2 : '))\n",
        "\n",
        "if age1 > age2 :\n",
        "  print('person1 is greater than person2')\n",
        "elif age1 < age2 :\n",
        "  print('person2 is greater than person1')\n",
        "else :\n",
        "  print('Both person1 and person2 are same age')\n"
      ],
      "metadata": {
        "colab": {
          "base_uri": "https://localhost:8080/"
        },
        "id": "yCn80MkSr4Om",
        "outputId": "7a5dfe83-d696-4bd6-ad49-8a61cf73902a"
      },
      "execution_count": null,
      "outputs": [
        {
          "output_type": "stream",
          "name": "stdout",
          "text": [
            "Enter the age of person1 : 25\n",
            "Enter the age of person2 : 12\n",
            "person1 is greater than person2\n"
          ]
        }
      ]
    },
    {
      "cell_type": "code",
      "source": [
        "#7. Write a Python program to input three numbers and print them in descending order.\n",
        "\n",
        "n1 = int(input('Enter first number : '))\n",
        "n2 = int(input('Enter second number : '))\n",
        "n3 = int(input('Enter third number : '))\n",
        "\n",
        "if n1 >= n2 and n1 >= n3 :\n",
        "  if n2 >= n3 :\n",
        "    print(n1, n2, n3)\n",
        "  else :\n",
        "    print(n1, n3, n2)\n",
        "elif n2 >= n1 and n2 >= n3 :\n",
        "  if n1 >= n3:\n",
        "    print(n2, n1, n3)\n",
        "  else :\n",
        "    print(n2, n3, n1)\n",
        "else :\n",
        "  if n1 >= n2:\n",
        "    print(n3, n1, n2)\n",
        "  else :\n",
        "    print(n3, n2, n1)"
      ],
      "metadata": {
        "colab": {
          "base_uri": "https://localhost:8080/"
        },
        "id": "NMzBCcXfr4K9",
        "outputId": "fe14647a-d9e9-4e1a-c3ce-1372d690dc22"
      },
      "execution_count": null,
      "outputs": [
        {
          "output_type": "stream",
          "name": "stdout",
          "text": [
            "Enter first number : 3\n",
            "Enter second number : 5\n",
            "Enter third number : 4\n",
            "5 4 3\n"
          ]
        }
      ]
    },
    {
      "cell_type": "code",
      "source": [
        "32#8.  Write a Python program to calculate the electricity bill based on the following tariff:\n",
        "# Units <= 100: ₹5 per unit\n",
        "#101–300: ₹5 per unit for the first 100 units, ₹7 for the remaining\n",
        "#Units > 300: ₹5 for the first 100 units, ₹7 for the next 200, and ₹10 for additional units.\n",
        "#(Hint: Use if-elif with arithmetic calculations.)\n",
        "\n",
        "u = int(input('Enter number of units used : '))\n",
        "\n",
        "if u <= 100 :\n",
        "  min_usage_charges = u * 5\n",
        "  print('min_usage_charges : Rs.',min_usage_charges)\n",
        "elif 101 <= u <= 300 :\n",
        "  mid_usage_charges = (100 * 5) + ((u - 100) * 7)\n",
        "  print('mid_usage_charges : Rs.',mid_usage_charges)\n",
        "else :\n",
        "  high_usage_charges = (100 * 5) + (200 * 7) +((u - 300) * 10)\n",
        "  print('high_usage_charges : Rs.',high_usage_charges)"
      ],
      "metadata": {
        "colab": {
          "base_uri": "https://localhost:8080/"
        },
        "id": "SyNOxQWSr4IW",
        "outputId": "af8ead88-3b77-47e9-e9ba-befa70ab4531"
      },
      "execution_count": null,
      "outputs": [
        {
          "output_type": "stream",
          "name": "stdout",
          "text": [
            "Enter number of units used : 303\n",
            "high_usage_charges : Rs. 1930\n"
          ]
        }
      ]
    },
    {
      "cell_type": "code",
      "source": [
        "#9. Write a Python program to check if a triangle is valid based on the following conditions:\n",
        "#The sum of any two sides must be greater than the third.\n",
        "#(Hint: Use nested if statements.)\n",
        "\n",
        "s1 = int(input('Enter the length of side1 = '))\n",
        "s2 = int(input('Enter the length of side2 = '))\n",
        "s3 = int(input('Enter the length of side3 = '))\n",
        "\n",
        "if s1 + s2 > s3 :\n",
        "  if s2 + s3 > s1:\n",
        "    if s3 + s1 > s2 :\n",
        "      print('The triangle is valid')\n",
        "    else :\n",
        "      print('The triangle is invalid')\n",
        "  else :\n",
        "    print('The triangle is invalid')\n",
        "else :\n",
        "  print('The triangle is invalid')"
      ],
      "metadata": {
        "colab": {
          "base_uri": "https://localhost:8080/"
        },
        "id": "nx_UZeI7r4Fo",
        "outputId": "997e02f6-8d93-467d-b6c2-5cd4639e20f7"
      },
      "execution_count": null,
      "outputs": [
        {
          "output_type": "stream",
          "name": "stdout",
          "text": [
            "Enter the length of side1 = 10\n",
            "Enter the length of side2 = 12\n",
            "Enter the length of side3 = 8\n",
            "The triangle is valid\n"
          ]
        }
      ]
    },
    {
      "cell_type": "code",
      "source": [
        "#10. Write a Python program to determine the type of triangle based on the lengths of its three sides:\n",
        "\n",
        "#Equilateral: All sides are equal.\n",
        "#Isosceles: Two sides are equal.\n",
        "#Scalene: No sides are equal.\n",
        "#(Hint: Use nested if-elif statements.)\n",
        "\n",
        "s1 = int(input('Enter the length of side1 = '))\n",
        "s2 = int(input('Enter the length of side2 = '))\n",
        "s3 = int(input('Enter the length of side3 = '))\n",
        "\n",
        "if s1 == s2 == s3 :\n",
        "  print('Equilateral triangle')\n",
        "elif s1 == s2 or s2 == s3 or s3 == s1 :\n",
        "  print('Isosceles triangle')\n",
        "else :\n",
        "  print('Scalene triangle')\n"
      ],
      "metadata": {
        "colab": {
          "base_uri": "https://localhost:8080/"
        },
        "id": "95YL-igrr4C3",
        "outputId": "ac9d9026-d3ea-4e94-f411-160ea163c728"
      },
      "execution_count": null,
      "outputs": [
        {
          "output_type": "stream",
          "name": "stdout",
          "text": [
            "Enter the length of side1 = 1\n",
            "Enter the length of side2 = 2\n",
            "Enter the length of side3 = 3\n",
            "Scalene triangle\n"
          ]
        }
      ]
    }
  ]
}